{
 "cells": [
  {
   "cell_type": "code",
   "execution_count": 51,
   "metadata": {},
   "outputs": [],
   "source": [
    "import matplotlib.pyplot as plt\n",
    "import numpy as np\n",
    "import pandas as pd\n",
    "from sklearn.model_selection import train_test_split\n",
    "from sklearn.datasets import load_iris\n",
    "from numpy.linalg import inv"
   ]
  },
  {
   "cell_type": "code",
   "execution_count": 52,
   "metadata": {},
   "outputs": [],
   "source": [
    "class KNearestNeighbors:\n",
    "    def __init__(self, k):\n",
    "        self.k = k\n",
    "        \n",
    "    def fit(self, X_train, Y_train):\n",
    "        self.X_train = X_train\n",
    "        self.Y_train = Y_train\n",
    "        self.number_class = len(np.unique(Y_train))\n",
    "        \n",
    "    def nearestNeighbors(self, X_test):\n",
    "        distance = np.sqrt(np.sum((X_test - self.X_train)**2, axis = 1))\n",
    "        near_neighbor = np.argsort(distance)[0:self.k]\n",
    "        return near_neighbor\n",
    "    \n",
    "    def predict(self, X_test):\n",
    "        near_neighbor = self.nearestNeighbors(X_test)\n",
    "        y = np.argmax(np.bincount(self.Y_train[near_neighbor]))\n",
    "        return y\n",
    "    \n",
    "    def evaluate(self, X_test, Y_test):\n",
    "        self.X_test = X_test\n",
    "        self.Y_test = Y_test\n",
    "        y_predict=np.zeros(len(self.X_test))\n",
    "        for i, test in enumerate(self.X_test):\n",
    "            y_predict[i] = self.predict(test)\n",
    "#         evaluatation = (y_predict == self.Y_test).sum()/len(self.Y_test)\n",
    "        return evaluatation, y_predict\n",
    "    \n",
    "    def evaluation_mae(self, X_test, Y_test):\n",
    "        self.X_test = X_test\n",
    "        self.Y_test = Y_test\n",
    "        Y_predic=np.zeros(len(self.X_test))\n",
    "        for i, test in enumerate(self.X_test):\n",
    "            Y_predic[i] = self.predict(test)\n",
    "        mae = np.absolute(np.subtract(Y_test, Y_predic)).mean()\n",
    "        return mae"
   ]
  },
  {
   "cell_type": "code",
   "execution_count": 53,
   "metadata": {},
   "outputs": [],
   "source": [
    "class AdalineRegressor:\n",
    "    def __init__(self):\n",
    "        pass\n",
    "    \n",
    "    def fit(self, X_train, Y_train):\n",
    "        self.w = np.matmul(inv(np.matmul(X_train.T, X_train)), np.matmul(X_train.T, Y_train))\n",
    "        \n",
    "    def predict(self, X_test):\n",
    "        Y_predic = np.matmul(X_test, self.w)\n",
    "        return Y_predic\n",
    "    \n",
    "    def evaluation(self, X_test, Y_test):\n",
    "        Y_predic = np.matmul(X_test, self.w)\n",
    "        subtract = np.abs(Y_test - Y_predic)\n",
    "        average = np.mean(subtract)\n",
    "        return average\n",
    "    \n",
    "    def evaluation_mse(self, X_test, Y_test):\n",
    "        Y_predic = np.matmul(X_test, self.w)\n",
    "        mse = (np.square(Y_test - Y_predic)).mean()\n",
    "        return mse        \n",
    "    \n",
    "    def evaluation_mae(self, X_test, Y_test):\n",
    "        Y_predic = np.matmul(X_test, self.w)\n",
    "        mae = mae = np.absolute(np.subtract(Y_test, Y_predic)).mean()\n",
    "        return mae"
   ]
  },
  {
   "cell_type": "code",
   "execution_count": 54,
   "metadata": {},
   "outputs": [],
   "source": [
    "iris = load_iris()"
   ]
  },
  {
   "cell_type": "code",
   "execution_count": 55,
   "metadata": {},
   "outputs": [],
   "source": [
    "X = iris['data']\n",
    "Y = iris['target']"
   ]
  },
  {
   "cell_type": "code",
   "execution_count": 56,
   "metadata": {},
   "outputs": [
    {
     "name": "stdout",
     "output_type": "stream",
     "text": [
      "mean squared error of KNearestNeighbors is 0.044444444444444446\n"
     ]
    }
   ],
   "source": [
    "knn = KNearestNeighbors(k=5)\n",
    "X_train, X_test, Y_train, Y_test = train_test_split(X, Y, test_size=0.3, random_state=5)\n",
    "knn.fit(X_train,Y_train)\n",
    "mae = knn.evaluation_mae(X_test, Y_test)\n",
    "print('mean absolute error of KNearestNeighbors is', mae)"
   ]
  },
  {
   "cell_type": "code",
   "execution_count": 58,
   "metadata": {},
   "outputs": [
    {
     "name": "stdout",
     "output_type": "stream",
     "text": [
      "mean absolute error of AdalineRegressor is 0.1704883649356043\n"
     ]
    }
   ],
   "source": [
    "model = AdalineRegressor()\n",
    "model.fit(X_train, Y_train)\n",
    "y_predic = model.predict(X)\n",
    "mae = model.evaluation_mae(X_test, Y_test)\n",
    "print('mean absolute error of AdalineRegressor is', mae)"
   ]
  },
  {
   "cell_type": "code",
   "execution_count": null,
   "metadata": {},
   "outputs": [],
   "source": []
  }
 ],
 "metadata": {
  "kernelspec": {
   "display_name": "Python 3",
   "language": "python",
   "name": "python3"
  },
  "language_info": {
   "codemirror_mode": {
    "name": "ipython",
    "version": 3
   },
   "file_extension": ".py",
   "mimetype": "text/x-python",
   "name": "python",
   "nbconvert_exporter": "python",
   "pygments_lexer": "ipython3",
   "version": "3.7.6"
  }
 },
 "nbformat": 4,
 "nbformat_minor": 4
}
