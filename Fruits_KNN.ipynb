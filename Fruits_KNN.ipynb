{
 "cells": [
  {
   "cell_type": "code",
   "execution_count": 3,
   "metadata": {},
   "outputs": [
    {
     "data": {
      "text/plain": [
       "<matplotlib.legend.Legend at 0x17848f9d948>"
      ]
     },
     "execution_count": 3,
     "metadata": {},
     "output_type": "execute_result"
    },
    {
     "data": {
      "image/png": "[encoded data removed]",
      "text/plain": [
       "<Figure size 432x288 with 1 Axes>"
      ]
     },
     "metadata": {
      "needs_background": "light"
     },
     "output_type": "display_data"
    }
   ],
   "source": [
    "import numpy as np\n",
    "import pandas as pd\n",
    "import matplotlib.pyplot as plt\n",
    "from mpl_toolkits import mplot3d\n",
    "from sklearn.model_selection import train_test_split\n",
    "\n",
    "N = 1000\n",
    "\n",
    "std = 0.6\n",
    "\n",
    "banana_width = np.random.normal(4, std, N)\n",
    "banana_length = np.random.normal(8, std, N)\n",
    "\n",
    "apple_width = np.random.normal(6, std, N)\n",
    "apple_length = np.random.normal(6, std+0.1, N)\n",
    "\n",
    "width = np.concatenate((banana_width, apple_width))\n",
    "length = np.concatenate((banana_length, apple_length))\n",
    "\n",
    "X = np.array([width, length]).T\n",
    "\n",
    "banana_label = np.zeros(N, dtype='int')\n",
    "apple_label = np.ones(N, dtype='int')\n",
    "\n",
    "Y = np.concatenate((banana_label, apple_label))\n",
    "\n",
    "plt.scatter(X[0:N, 1], X[0:N, 0], c='orange', label='banana')\n",
    "plt.scatter(X[N:2*N, 1], X[N:2*N, 0], c='red', label='apple')\n",
    "\n",
    "plt.xlabel('Length')\n",
    "plt.ylabel('Width')\n",
    "plt.title(\"Apple and Banana\")\n",
    "plt.legend()"
   ]
  },
  {
   "cell_type": "code",
   "execution_count": 4,
   "metadata": {},
   "outputs": [],
   "source": [
    "class KNearestNeighbors:\n",
    "    def __init__(self, k):\n",
    "        self.k = k\n",
    "        \n",
    "    def fit(self, X_train, Y_train):\n",
    "        self.X_train = X_train\n",
    "        self.Y_train = Y_train\n",
    "#         self.X_train, self.X_test, self.Y_train, self.Y_test = train_test_split(X, Y, test_size=0.25)\n",
    "        self.number_class = len(np.unique(Y_train))\n",
    "        \n",
    "    def nearestNeighbors(self, X_test):\n",
    "        distance = np.sqrt(np.sum((X_test - self.X_train)**2, axis = 1))\n",
    "        near_neighbor = np.argsort(distance)[0:self.k]\n",
    "        return near_neighbor\n",
    "    \n",
    "    def predict(self, X_test):\n",
    "        near_neighbor = self.nearestNeighbors(X_test)\n",
    "        y = np.argmax(np.bincount(self.Y_train[near_neighbor]))\n",
    "        return y"
   ]
  },
  {
   "cell_type": "code",
   "execution_count": 8,
   "metadata": {},
   "outputs": [
    {
     "name": "stdout",
     "output_type": "stream",
     "text": [
      "98.8\n"
     ]
    }
   ],
   "source": [
    "knn = KNearestNeighbors(k=5)\n",
    "X_train, X_test, Y_train, Y_test = train_test_split(X, Y, test_size=0.25, random_state=42)\n",
    "knn.fit(X_train,Y_train)\n",
    "y_predict=np.zeros(len(X_test))\n",
    "for i, test in enumerate(X_test):\n",
    "    y_predict[i] = knn.predict(test)\n",
    "\n",
    "FP = np.count_nonzero(Y_test - y_predict)\n",
    "evaluation = 100 - (FP/len(X_test)*100)\n",
    "print(evaluation)"
   ]
  },
  {
   "cell_type": "code",
   "execution_count": 26,
   "metadata": {},
   "outputs": [
    {
     "name": "stdout",
     "output_type": "stream",
     "text": [
      "98.8\n"
     ]
    }
   ],
   "source": [
    "from sklearn.neighbors import KNeighborsClassifier\n",
    "\n",
    "_rate=[]\n",
    "knc=KNeighborsClassifier(n_neighbors=5)\n",
    "knc.fit(X_train,Y_train)\n",
    "prediction=knc.predict(X_test)\n",
    "error = np.mean(np.mean(prediction!=Y_test))\n",
    "evaluation = 100 - (error*100)\n",
    "print(evaluation)"
   ]
  },
  {
   "cell_type": "code",
   "execution_count": null,
   "metadata": {},
   "outputs": [],
   "source": []
  }
 ],
 "metadata": {
  "kernelspec": {
   "display_name": "Python 3",
   "language": "python",
   "name": "python3"
  },
  "language_info": {
   "codemirror_mode": {
    "name": "ipython",
    "version": 3
   },
   "file_extension": ".py",
   "mimetype": "text/x-python",
   "name": "python",
   "nbconvert_exporter": "python",
   "pygments_lexer": "ipython3",
   "version": "3.7.6"
  }
 },
 "nbformat": 4,
 "nbformat_minor": 4
}
